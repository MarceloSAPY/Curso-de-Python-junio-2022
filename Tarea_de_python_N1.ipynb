{
  "nbformat": 4,
  "nbformat_minor": 0,
  "metadata": {
    "colab": {
      "name": "Tarea de python N1",
      "provenance": [],
      "authorship_tag": "ABX9TyMBYqZeiA+XgyCoaX9BV0iX",
      "include_colab_link": true
    },
    "kernelspec": {
      "name": "python3",
      "display_name": "Python 3"
    },
    "language_info": {
      "name": "python"
    }
  },
  "cells": [
    {
      "cell_type": "markdown",
      "metadata": {
        "id": "view-in-github",
        "colab_type": "text"
      },
      "source": [
        "<a href=\"https://colab.research.google.com/github/MarceloSAPY/Curso-de-Python-junio-2022/blob/master/Tarea_de_python_N1.ipynb\" target=\"_parent\"><img src=\"https://colab.research.google.com/assets/colab-badge.svg\" alt=\"Open In Colab\"/></a>"
      ]
    },
    {
      "cell_type": "markdown",
      "source": [
        "Ejercicio 1:\n",
        "Multiplicar 2 números sin usar el símbolo de la multiplicación"
      ],
      "metadata": {
        "id": "Dr3G2Hfvp1cF"
      }
    },
    {
      "cell_type": "code",
      "execution_count": 1,
      "metadata": {
        "colab": {
          "base_uri": "https://localhost:8080/"
        },
        "id": "Eqrv52JUptw7",
        "outputId": "1f6c4fab-c12c-4e9e-ec15-c8299dc18e78"
      },
      "outputs": [
        {
          "output_type": "stream",
          "name": "stdout",
          "text": [
            "5 x 6 = 30\n"
          ]
        }
      ],
      "source": [
        "numero1 = 5\n",
        "numero2 = 6\n",
        "resultado_final=0\n",
        "for i in range(0, numero2): \n",
        "    if numero1 !=0 and numero2 !=0:\n",
        "        resultado_final=resultado_final+numero1\n",
        "    else:\n",
        "        resultado_final=0\n",
        "\n",
        "print(f\"{numero1} x {numero2} = {resultado_final}\")"
      ]
    },
    {
      "cell_type": "markdown",
      "source": [
        "Ejercicio 2:\n",
        "Ingresar nombre y apellido e imprimirlo al revés.\n"
      ],
      "metadata": {
        "id": "wPf-jeIep8Cs"
      }
    },
    {
      "cell_type": "code",
      "source": [
        "nombre_persona =input(\"ingrese su nombre: \\n\")\n",
        "apellido_persona =input(\"ingrese su apellido: \\n\")\n",
        "nombre_completo =( nombre_persona + \" \"+ apellido_persona)\n",
        "constanteDeLetrasNombre = len(nombre_persona)\n",
        "constanteDeLetrasApellido = len(apellido_persona)\n",
        "nombre_revest = \"\"\n",
        "apellido_revest = \"\"\n",
        "for i in nombre_persona:\n",
        "    constanteDeLetrasNombre-=1\n",
        "    nombre_revest=(f\"{nombre_revest}{nombre_persona[constanteDeLetrasNombre]}\")\n",
        "\n",
        "for i in apellido_persona:\n",
        "    constanteDeLetrasApellido-=1\n",
        "    apellido_revest=(f\"{apellido_revest}{apellido_persona[constanteDeLetrasApellido]}\")\n",
        "\n",
        "nombre_revest= ( nombre_revest + \" \"+ apellido_revest)   \n",
        "print(f\"El nombre original es : {nombre_completo}\" f\"\\nSu nombre alreves es: {nombre_revest}\" )"
      ],
      "metadata": {
        "id": "fc0in8cyqAPx"
      },
      "execution_count": null,
      "outputs": []
    },
    {
      "cell_type": "markdown",
      "source": [
        "Ejercicio 3 Crear un script que encuentre el elemento menor de una lista"
      ],
      "metadata": {
        "id": "S0QePhdqqEUE"
      }
    },
    {
      "cell_type": "code",
      "source": [
        "lista_de_ejemplo = [4, 9, 8, 3, 5, 9, 44, 33, 87, 2, 32, 454]\n",
        "elemento_menor=min(lista_de_ejemplo)\n",
        "print(elemento_menor)"
      ],
      "metadata": {
        "id": "f7GPyn82qGy0"
      },
      "execution_count": null,
      "outputs": []
    },
    {
      "cell_type": "markdown",
      "source": [
        "Ejercicio 4:\n",
        "Crear un script que imprima el volumen de una esfera por su radio 4/3 * pi * r ** 3"
      ],
      "metadata": {
        "id": "4LeC7sK4qN5q"
      }
    },
    {
      "cell_type": "code",
      "source": [
        "radioDeEsfera = float(input(\"Ingrese el valor del radio de la esfera Radio: \"))\n",
        "pi=3.141592653589793\n",
        "volumenDeEsfera = (4/3)*pi*radioDeEsfera**3\n",
        "print(f\"El volumen de la esfera con un radio {radioDeEsfera} es de: {round( volumenDeEsfera, 2)}\")"
      ],
      "metadata": {
        "id": "fO6d9t0HqQL0"
      },
      "execution_count": null,
      "outputs": []
    },
    {
      "cell_type": "markdown",
      "source": [
        "Ejercicio 5:\n",
        "Crear una script que indique si el usuario es mayor de edad"
      ],
      "metadata": {
        "id": "nGv0Z0uAqTOE"
      }
    },
    {
      "cell_type": "code",
      "source": [
        "edad_de_usuario =int(input(\"Ingrese su edad: \\n\"))\n",
        "if edad_de_usuario < 18:\n",
        "    print(\"Usted es menor de edad\")\n",
        "else:\n",
        "    print(\"Usted es mayor de edad\")"
      ],
      "metadata": {
        "id": "ExzoDkEdqVPd"
      },
      "execution_count": null,
      "outputs": []
    },
    {
      "cell_type": "markdown",
      "source": [
        "Ejercicio 6:\n",
        "Crear un script que permita calcular si un número es par o impar."
      ],
      "metadata": {
        "id": "XRiBGhc7qYNc"
      }
    },
    {
      "cell_type": "code",
      "source": [
        "numero= int(input(\"Ingrese el numero: \\n\"))\n",
        "if numero%2 == 0:\n",
        "    print(\"El numero es par\")\n",
        "else:\n",
        "    print(\"El numero es impar\")"
      ],
      "metadata": {
        "id": "Z4zlkQOiqZr8"
      },
      "execution_count": null,
      "outputs": []
    },
    {
      "cell_type": "markdown",
      "source": [
        "Ejercicio 7:\n",
        "Crear un script que indique cuantas vocales tiene una palabra."
      ],
      "metadata": {
        "id": "ejPNE_Ilqc43"
      }
    },
    {
      "cell_type": "code",
      "source": [
        "palabra= input(\"Ingrese la Palabra: \\n\")\n",
        "count_de_a=palabra.count(\"a\") + palabra.count(\"A\")\n",
        "count_de_e=palabra.count(\"e\") + palabra.count(\"E\")\n",
        "count_de_i=palabra.count(\"i\") + palabra.count(\"I\")\n",
        "count_de_o=palabra.count(\"o\") + palabra.count(\"O\")\n",
        "count_de_u=palabra.count(\"u\") + palabra.count(\"U\")\n",
        "numero_de_vocales=count_de_a + count_de_e + count_de_i + count_de_o + count_de_u\n",
        "print(f\"el numero de vocales de la palabra {palabra} es : '{numero_de_vocales}'\")"
      ],
      "metadata": {
        "id": "hfqamRDkqdgk"
      },
      "execution_count": null,
      "outputs": []
    },
    {
      "cell_type": "markdown",
      "source": [
        "Ejercicio 8:\n",
        "Crear un script que reciba una cantidad infinita de números hasta decir basta, luego\n",
        "que imprima la suma de los números ingresados."
      ],
      "metadata": {
        "id": "OQVSq2aQqgQM"
      }
    },
    {
      "cell_type": "code",
      "source": [
        "llave = 0\n",
        "sumaInfinita = 0 \n",
        "while llave == 0:\n",
        "    numeroInfinito=input(\"Ingrese el valor a sumar:\")\n",
        "\n",
        "    if numeroInfinito == \"Basta\" or numeroInfinito ==\"basta\":\n",
        "        break\n",
        "    else:\n",
        "        try:\n",
        "            numeroInfinito=float(numeroInfinito)\n",
        "            sumaInfinita = sumaInfinita + numeroInfinito\n",
        "        except:\n",
        "            print(\"El valor a sumar es incorrecto.\") \n",
        "        \n",
        "print(sumaInfinita)"
      ],
      "metadata": {
        "id": "R9U6dBOQqi6V"
      },
      "execution_count": null,
      "outputs": []
    },
    {
      "cell_type": "markdown",
      "source": [
        "Ejercicio 9:\n",
        "El objetivo del ejercicio es crear un sistema de calificaciones, tomando en cuenta la\n",
        "siguiente información:\n",
        "1. El usuario proporcionará un valor entre 0 y 10.\n",
        "2. Si está entre 9 y 10: imprimir una A\n",
        "3. Si está entre 8 y menor a 9: imprimir una B\n",
        "4. Si está entre 7 y menor a 8: imprimir una C\n",
        "5. Si está entre 6 y menor a 7: imprimir una D\n",
        "6. Si está entre 0 y menor a 6: imprimir una F\n",
        "7. Cualquier otro valor debe imprimir: Valor desconocido\n",
        "Por ejemplo:\n",
        "Proporciona un valor entre 0 y 10:"
      ],
      "metadata": {
        "id": "1k_CmHqRqlGE"
      }
    },
    {
      "cell_type": "code",
      "source": [
        "Calificacion= float(input(\"  Ingrese la calificacion = \"))\n",
        "if Calificacion > 10 or Calificacion< 0 :\n",
        "    print(\"El valor no es correcto vuelva a intentarlo\")\n",
        "elif Calificacion >=9:\n",
        "    print(\"Tiene una A\")\n",
        "elif Calificacion >= 8:\n",
        "    print(\"Tiene una B\")\n",
        "elif Calificacion >= 7:\n",
        "    print(\"Tiene una C\")\n",
        "elif Calificacion >= 6:\n",
        "    print(\"Tiene una D\")\n",
        "elif Calificacion >= 0:\n",
        "    print(\"Tiene una F\")"
      ],
      "metadata": {
        "id": "lzJursNxqpDE"
      },
      "execution_count": null,
      "outputs": []
    },
    {
      "cell_type": "markdown",
      "source": [
        "Ejercicio 10:\n",
        "Imprimir números de 5 a 1 de manera descendente"
      ],
      "metadata": {
        "id": "Ca1mUIecqreV"
      }
    },
    {
      "cell_type": "code",
      "source": [
        "a = 5\n",
        "for i in range(0,5):\n",
        "    print(a)\n",
        "    a-=1"
      ],
      "metadata": {
        "id": "WyCpcQF0quXU"
      },
      "execution_count": null,
      "outputs": []
    },
    {
      "cell_type": "markdown",
      "source": [
        "Ejercicio 11:\n",
        "Imprimir los números naturales del 0 al 10 utilizando un ciclo while"
      ],
      "metadata": {
        "id": "XLjsSJyHqv9F"
      }
    },
    {
      "cell_type": "code",
      "source": [
        "a=0\n",
        "while True:\n",
        "    a+=1\n",
        "    print(a)\n",
        "    if a==10:\n",
        "        break"
      ],
      "metadata": {
        "id": "6IqE0WktqxgU"
      },
      "execution_count": null,
      "outputs": []
    },
    {
      "cell_type": "markdown",
      "source": [
        "Ejercicio 12:\n",
        "Calcular el área y el perímetro de un Rectángulo,\n",
        "Crear las variables\n",
        "alto (int)\n",
        "ancho (int)\n",
        "Área: alto * ancho\n",
        "Perímetro: alto + ancho"
      ],
      "metadata": {
        "id": "x5jkas1Mq0B8"
      }
    },
    {
      "cell_type": "code",
      "source": [
        "try: \n",
        "    alto=int(input(\"Ingrese el valor del alto del rectángulo: \"))\n",
        "    ancho=int(input(\"Ingrese el valor del ancho del rectángulo: \"))\n",
        "    area = alto*ancho\n",
        "    perimetro = (alto+ancho)*2\n",
        "    print(f\"El valor del area del rectángulo es de :{area} \\n y el perimetro: {perimetro}\")\n",
        "except:\n",
        "    print( \"el valor ingresado es incorrecto\")"
      ],
      "metadata": {
        "id": "KNr4GN2Pq110"
      },
      "execution_count": null,
      "outputs": []
    },
    {
      "cell_type": "markdown",
      "source": [
        "Ejercicio 13:\n",
        "Iterar un rango de 0 a 10 e imprimir sólo los números divisibles entre 3"
      ],
      "metadata": {
        "id": "rHHxLa2pq4A9"
      }
    },
    {
      "cell_type": "code",
      "source": [
        "for i in range(0,10):\n",
        "    if i%3 == 0:\n",
        "        print(i)"
      ],
      "metadata": {
        "id": "qsOm3Oreq5ol"
      },
      "execution_count": null,
      "outputs": []
    },
    {
      "cell_type": "markdown",
      "source": [
        "Ejercicio 14:\n",
        "Presentar un string con el titulo y el autor de un libro"
      ],
      "metadata": {
        "id": "SnL72Ktkq77s"
      }
    },
    {
      "cell_type": "code",
      "source": [
        "Libros= {\n",
        "    \"Titulo de libro\":\"Nada\",\n",
        "    \"autor\":\"Carmen Laforet\"\n",
        "    }\n",
        "\n",
        "print(\"El titulo de libro es \",Libros.get(\"Titulo de libro\"),\" y su autor es \",Libros.get(\"autor\"))"
      ],
      "metadata": {
        "id": "L-kof4ekq9qk"
      },
      "execution_count": null,
      "outputs": []
    },
    {
      "cell_type": "markdown",
      "source": [
        "Ejercicio 15:\n",
        "Solicitar al usuario dos valores:\n",
        "numero1 (int)\n",
        "numero2 (int)\n",
        "Se debe imprimir el mayor de los dos números (la salida debe ser idéntica a la que\n",
        "sigue):\n",
        "Proporciona el numero1:\n",
        "Proporciona el numero2:\n",
        "El numero mayor es: numeroMayor"
      ],
      "metadata": {
        "id": "iCObSDhpq_vs"
      }
    },
    {
      "cell_type": "code",
      "source": [
        "umero1 = int(input(\"Ingrese el valor del primer numero: \\n\"))\n",
        "numero2 = int(input(\"Ingrese el valor del segundo numero: \\n\"))\n",
        "\n",
        "numeros=[numero1, numero2]\n",
        "print(f\"El numero mayor es {max(numeros)}\")"
      ],
      "metadata": {
        "id": "kaW9nMwhrC7E"
      },
      "execution_count": null,
      "outputs": []
    },
    {
      "cell_type": "markdown",
      "source": [
        "Ejercicio 16:\n",
        "Dada la siguiente tupla, crear una lista que sólo incluya los números menor que 5\n",
        "utilizando un ciclo for:\n",
        "tupla = (13, 1, 8, 3, 2, 5, 8)"
      ],
      "metadata": {
        "id": "kbxe3wTmrFjk"
      }
    },
    {
      "cell_type": "code",
      "source": [
        "tupla = (13, 1, 8, 3, 2, 5, 8)\n",
        "lista=[]\n",
        "for i in tupla:\n",
        "    if i < 5:\n",
        "        lista.append(i)\n",
        "\n",
        "print(lista)"
      ],
      "metadata": {
        "id": "PGDTMA4BrF7s"
      },
      "execution_count": null,
      "outputs": []
    },
    {
      "cell_type": "markdown",
      "source": [
        "Ejercicio 17:\n",
        "Crear un script que encuentre la potencia de un número ingresado por el teclado."
      ],
      "metadata": {
        "id": "e3UEKw8trIlF"
      }
    },
    {
      "cell_type": "code",
      "source": [
        "valor = int(input(\"ingrese el valor \"))\n",
        "print(f\"la potencia del numero {valor} es \\n\", valor**valor)"
      ],
      "metadata": {
        "colab": {
          "base_uri": "https://localhost:8080/"
        },
        "id": "GGcJ7YZArLCl",
        "outputId": "25137488-8c4f-47fe-8a08-545468db8f38"
      },
      "execution_count": 2,
      "outputs": [
        {
          "output_type": "stream",
          "name": "stdout",
          "text": [
            "ingrese el valor 2\n",
            "la potencia del numero 2 es \n",
            " 4\n"
          ]
        }
      ]
    },
    {
      "cell_type": "markdown",
      "source": [
        "Ejercicio 18:\n",
        "Dado dos números enteros, encontrar la suma."
      ],
      "metadata": {
        "id": "rTBSkNRirLhm"
      }
    },
    {
      "cell_type": "code",
      "source": [
        "numero1 = int(input(\"Ingrese el valor del primer numero entero: \\n\"))\n",
        "numero2 = int(input(\"Ingrese el valor del segundo numero entero: \\n\"))\n",
        "suma= numero1+numero2\n",
        "print(f\"La suma es {suma}\")"
      ],
      "metadata": {
        "id": "dDwr9qK2rNPF"
      },
      "execution_count": null,
      "outputs": []
    },
    {
      "cell_type": "markdown",
      "source": [
        "Ejercicio 19:\n",
        "Dado un número de 5 dígitos, devolver el número en orden inverso"
      ],
      "metadata": {
        "id": "CvufC1b8rOzd"
      }
    },
    {
      "cell_type": "code",
      "source": [
        "num= 16874\n",
        "numero = 0\n",
        "print(\"El numero inverso de: \", num)\n",
        "while num != 0:   \n",
        "   numero = 10*numero+num % 10\n",
        "   num //= 10\n",
        "  \n",
        "print(\" es \", numero)"
      ],
      "metadata": {
        "id": "l7GdxNxOrQgE"
      },
      "execution_count": null,
      "outputs": []
    },
    {
      "cell_type": "markdown",
      "source": [
        "Ejercicio 20:\n",
        "Crear un scrpt para saludar desde Python"
      ],
      "metadata": {
        "id": "eZ3bLIvRrS3s"
      }
    },
    {
      "cell_type": "code",
      "source": [
        "print(\"Hola mundo de Python\")"
      ],
      "metadata": {
        "colab": {
          "base_uri": "https://localhost:8080/"
        },
        "id": "dYujJ08frVuO",
        "outputId": "73876ea8-b962-48e2-fae3-3e2383da56fe"
      },
      "execution_count": 3,
      "outputs": [
        {
          "output_type": "stream",
          "name": "stdout",
          "text": [
            "Hola mundo de Python\n"
          ]
        }
      ]
    }
  ]
}